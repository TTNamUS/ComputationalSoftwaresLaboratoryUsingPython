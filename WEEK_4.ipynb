{
 "cells": [
  {
   "attachments": {},
   "cell_type": "markdown",
   "metadata": {},
   "source": [
    "# <CENTER><STRONG> EXERCISE WEEK 4 </STRONG></CENTER>"
   ]
  },
  {
   "attachments": {},
   "cell_type": "markdown",
   "metadata": {},
   "source": [
    "### <strong>`BÀI TẬP 1:`</strong> Nhập vào n và k, tính tổ hợp n chập k theo công thức sau:\n",
    "$$C_n^k = {{n!} \\over {k!(n - k)!}}$$"
   ]
  },
  {
   "attachments": {},
   "cell_type": "markdown",
   "metadata": {},
   "source": [
    "### <strong>`BÀI TẬP 2:`</strong> Nhập vào n, dùng công thức tổ hợp n chập k ở Bài tập 1 để xuất ra tam giác Pascal."
   ]
  },
  {
   "attachments": {},
   "cell_type": "markdown",
   "metadata": {},
   "source": [
    "### <strong>`BÀI TẬP 3:`</strong> Nhập vào hai số nguyên a và b. Tìm ước chung lớn nhất (UCLN) và bội chung nhỏ nhất (BCNN) của a và b. Sử dụng công thức sau: Giả sử a = bq + r , với a, b, q, r là các số nguyên, ta có:\n",
    "$$UCLN\\left( {a, b} \\right) = \\begin{cases}\n",
    "    b \\\\\n",
    "    UCLN\\left( {b, r} \\right) \\\\\n",
    "\\end{cases}\n",
    "\\begin{matrix}\n",
    "    r = 0  \\\\ \n",
    "    r \\ne 0  \\\\ \n",
    "\\end{matrix}$$\n",
    "Và $a * b = UCLN * BCNN$"
   ]
  },
  {
   "attachments": {},
   "cell_type": "markdown",
   "metadata": {},
   "source": [
    "### <strong>`BÀI TẬP 4:`</strong> Nhập vào một số a. Tính căn bậc hai của một số theo công thức lặp sau:\n",
    "$${x_0} = a\\quad \\quad {x_{n + 1}} = {{{x_n} + {a \\over {{x_n}}}} \\over 2}$$\n",
    "Quá trình lặp sẽ dừng khi ${x_{n + 1}} - {x_n} < \\varepsilon $. Với $\\varepsilon  = {10^{ - 6}}$."
   ]
  },
  {
   "attachments": {},
   "cell_type": "markdown",
   "metadata": {},
   "source": [
    "### <strong>`BÀI TẬP 5:`</strong> Tìm và xuất ra các số nhỏ hơn 1000 thỏa tính chất tổng các ước số của nó bằng chính nó. Ví dụ: 6 = 1 + 2 + 3."
   ]
  },
  {
   "attachments": {},
   "cell_type": "markdown",
   "metadata": {},
   "source": [
    "### <strong>`BÀI TẬP 6:`</strong> Nhập vào số nguyên n có 2 chữ số. Xuất ra cách đọc của nó. Ví dụ: n = 31 , xuất ra \"ba mươi mốt\""
   ]
  },
  {
   "attachments": {},
   "cell_type": "markdown",
   "metadata": {},
   "source": [
    "### <strong>`BÀI TẬP 7:`</strong> Nhập vào số nguyên n có 3 chữ số. Xuất ra cách đọc của nó. Ví dụ: n = 111 , xuất ra \"một trăm mười một\"."
   ]
  }
 ],
 "metadata": {
  "kernelspec": {
   "display_name": "Python 3",
   "language": "python",
   "name": "python3"
  },
  "language_info": {
   "name": "python",
   "version": "3.10.5 (tags/v3.10.5:f377153, Jun  6 2022, 16:14:13) [MSC v.1929 64 bit (AMD64)]"
  },
  "orig_nbformat": 4,
  "vscode": {
   "interpreter": {
    "hash": "6d5b3700750bb233553397e1738ff408efdf1f93150754eb3685d72f9fc5da7b"
   }
  }
 },
 "nbformat": 4,
 "nbformat_minor": 2
}
