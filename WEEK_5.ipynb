{
 "cells": [
  {
   "attachments": {},
   "cell_type": "markdown",
   "metadata": {},
   "source": [
    "# <CENTER><STRONG> EXERCISE WEEK 5 </STRONG></CENTER>"
   ]
  },
  {
   "attachments": {},
   "cell_type": "markdown",
   "metadata": {},
   "source": [
    "### <strong>`BÀI TẬP 1:`</strong> Viết một fuction tính diện tích tam giác vuông.\n",
    "- Tên function là DT_TamGiac_Vuong\n",
    "- Input: a, b, c là độ dài ba cạnh của tam giác.\n",
    "- Trong hàm phải kiểm tra tam giác có phải tam giác vuông không. Nếu là tam giác vuông thì tính diện tích, ngược lại xuất ra thông báo \" khong phai tam giac vuong \"\n",
    "- Output: S là diện tích tam giác vuông."
   ]
  },
  {
   "attachments": {},
   "cell_type": "markdown",
   "metadata": {},
   "source": [
    "### <strong>`BÀI TẬP 2:`</strong> Viết function cho phép người dùng\n",
    "- Tên function là HamSo_f, HamSo_g, HamSo_h\n",
    "- Input: x là các hệ số của phương trình.\n",
    "- Output: f, g, h là giá trị hàm f (x), g (x), h(x)\n",
    "\n",
    "a)  $$f\\left( x \\right) = {{\\sqrt {x - 2} } \\over \\pi }\\sin \\left( {10\\pi x} \\right)$$\n",
    "b)  $$g\\left( x \\right) = x - {{\\cos \\left( x \\right) - \\sin \\left( x \\right)} \\over {\\sin \\left( x \\right) + \\cos \\left( x \\right)}}$$\n",
    "c)  $$h\\left( x \\right) = {1 \\over {10}}{\\left( {x - {{{x^{3/2}}} \\over {10}}} \\right)^2}$$\n"
   ]
  },
  {
   "attachments": {},
   "cell_type": "markdown",
   "metadata": {},
   "source": [
    "### <strong>`BÀI TẬP 3:`</strong> Hãy viết 1 function để giải phương trình bậc nhất có dạng $ax + b = 0$. Với\n",
    "- Tên function là Giai_PT_Bac_1\n",
    "- Input: a, b là các hệ số của phương trình.\n",
    "- Output: x là nghiệm của phương trình, n là số nghiệm của phương trình. Và kết luận nghiệm của phương trình."
   ]
  },
  {
   "attachments": {},
   "cell_type": "markdown",
   "metadata": {},
   "source": [
    "### <strong>`BÀI TẬP 4:`</strong> Hãy viết 1 function để giải phương trình bậc 2 có dạng: $a{x^2} + bx + c = 0$, trong đó có gọi function Giai_PT_Bac_1 trong trường hợp a = 0. Với\n",
    "- Tên function là Giai_PT_Bac_2\n",
    "- Input: a, b, c\n",
    "- Output: x1, x2 nghiệm của phương trình Và kết luận nghiệm\n",
    "của phương trình."
   ]
  },
  {
   "attachments": {},
   "cell_type": "markdown",
   "metadata": {},
   "source": [
    "### <strong>`BÀI TẬP 5:`</strong> Hãy viết một function để tính giai thừa của một số. Với\n",
    "- Tên function là Giai_thua\n",
    "- Input: n là số cần tính giai thừa\n",
    "- Output: $P = n!$"
   ]
  },
  {
   "attachments": {},
   "cell_type": "markdown",
   "metadata": {},
   "source": [
    "### <strong>`BÀI TẬP 6:`</strong> Hãy viết một function để tính tính tổ hợp n chập k, trong đó gọi function Giai_thua để tính.\n",
    "- Tên function là To_Hop\n",
    "- Input: n, k\n",
    "- Output: $$C_n^k = {{n!} \\over {k!(n - k)!}}$$"
   ]
  },
  {
   "attachments": {},
   "cell_type": "markdown",
   "metadata": {},
   "source": [
    "### <strong>`BÀI TẬP 7:`</strong> Viết một function tính các chuẩn của vector sau:\n",
    "$${\\left\\| x \\right\\|_1} = \\sum\\limits_{i = 1}^n {\\left| {{x_i}} \\right|} \\quad \\quad {\\left\\| x \\right\\|_2} = {\\left( {\\sum\\limits_{i = 1}^n {x_i^2} } \\right)^{1/2}}\\quad \\quad {\\left\\| x \\right\\|_\\infty } = \\mathop {\\max }\\limits_{1in} \\left| {{x_i}} \\right|$$\n",
    "Với $x = \\left( {{x_1}, \\ldots ,{x_n}} \\right)$  \n",
    "- Tên function là TinhChuan_Vector\n",
    "- Input: x là vector cần tính chuẩn, n sẽ cho biết chuẩn cần\n",
    "tính\n",
    "     - n = 1 thì hàm tính chuẩn 1 của vector (${\\left\\|  \\cdot  \\right\\|_1}$)\n",
    "     - n = 2 thì hàm tính chuẩn 2 của vector (${\\left\\|  \\cdot  \\right\\|_2}$)\n",
    "     - n = 0 thì hàm tính chuẩn vô cùng của vector (${\\left\\|  \\cdot  \\right\\|_\\infty }$)\n",
    "- Output: P là giá trị chuẩn của vector"
   ]
  },
  {
   "attachments": {},
   "cell_type": "markdown",
   "metadata": {},
   "source": [
    "### <strong>`BÀI TẬP 8:`</strong> Viết hàm tính căn bậc hai của một số theo công thức lặp sau:\n",
    "$${x_0} = a\\quad \\quad {x_{n + 1}} = {{{x_n} + {a \\over {{x_n}}}} \\over 2}$$\n",
    "Quá trình lặp sẽ dừng khi ${x_{n + 1}} - {x_n} < \\varepsilon $. Với $\\varepsilon  = {10^{ - 6}}$.\n",
    "- Tên function là Can_bac_hai\n",
    "- Input: a là số cần tính căn bậc hai\n",
    "- Output: S là giá trị căn bậc hai của a.\n",
    "\n",
    "**Chú ý: Phải kiểm tra trường hợp a < 0, ta không thể tính\n",
    "căn bậc hai của số âm.**"
   ]
  },
  {
   "attachments": {},
   "cell_type": "markdown",
   "metadata": {},
   "source": [
    "### <strong>`BÀI TẬP 9:`</strong> Viết một chương trình tính xấp xĩ tích phân xác định bằng phương pháp điểm giữa sau:\n",
    "$$\\int_a^b {f\\left( x \\right)dx \\simeq \\sum\\limits_{i = 1}^n {f\\left( {{{\\bar x}_i}} \\right)\\Delta x} } $$\n",
    "trong đó $\\Delta x = {{b - a} \\over n},{\\kern 1pt} \\quad {x_i} = a + \\left( {i - 1} \\right)\\Delta x$ và ${{\\bar x}_i} = {1 \\over 2}\\left( {{x_i} + {x_{i + 1}}} \\right)$. Còn ${f\\left( x \\right)}$ là một function như `BÀI TẬP 2`. Áp dụng chương trình này tính giá trị các tích phân sau:  \n",
    "a) $$\\int_0^1 {{x^2}dx} $$\n",
    "b) $$\\int_0^\\pi  {\\sin \\left( x \\right)dx} $$"
   ]
  }
 ],
 "metadata": {
  "kernelspec": {
   "display_name": "Python 3",
   "language": "python",
   "name": "python3"
  },
  "language_info": {
   "name": "python",
   "version": "3.10.5 (tags/v3.10.5:f377153, Jun  6 2022, 16:14:13) [MSC v.1929 64 bit (AMD64)]"
  },
  "orig_nbformat": 4,
  "vscode": {
   "interpreter": {
    "hash": "6d5b3700750bb233553397e1738ff408efdf1f93150754eb3685d72f9fc5da7b"
   }
  }
 },
 "nbformat": 4,
 "nbformat_minor": 2
}
