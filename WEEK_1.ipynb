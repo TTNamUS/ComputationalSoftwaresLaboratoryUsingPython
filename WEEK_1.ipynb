{
 "cells": [
  {
   "cell_type": "markdown",
   "metadata": {},
   "source": [
    "# <CENTER><STRONG> EXERCISE WEEK 1 </STRONG></CENTER>"
   ]
  },
  {
   "cell_type": "markdown",
   "metadata": {},
   "source": [
    "### BÀI 1: GIẢI PHƯƠNG TRÌNH BẬC NHẤT $ AX + B = 0 $"
   ]
  },
  {
   "cell_type": "code",
   "execution_count": 1,
   "metadata": {},
   "outputs": [
    {
     "name": "stdout",
     "output_type": "stream",
     "text": [
      "Nghiem cua phuong trinh la  -2.0\n"
     ]
    }
   ],
   "source": [
    "a = int(input('Nhap gia tri a = '))\n",
    "b = int(input('Nhap gia tri b = '))\n",
    "\n",
    "if (a != 0):\n",
    "    x = -b/a\n",
    "    print('Nghiem cua phuong trinh la ', x)\n",
    "elif b != 0:\n",
    "    print('Phuong trinh vo nghiem')\n",
    "else:\n",
    "    print('Phuong trinh vo so nghiem')"
   ]
  },
  {
   "cell_type": "markdown",
   "metadata": {},
   "source": [
    "### BÀI 2: GIẢI PHƯƠNG TRÌNH BẬC HAI $ AX^2 + BX + C = 0 $"
   ]
  },
  {
   "cell_type": "code",
   "execution_count": 11,
   "metadata": {},
   "outputs": [
    {
     "name": "stdout",
     "output_type": "stream",
     "text": [
      "Phuong trinh co 2 nghiem x1, x2 la 1.0 -3.0\n"
     ]
    }
   ],
   "source": [
    "import math\n",
    "a = int(input('Nhap gia tri a = '))\n",
    "b = int(input('Nhap gia tri b = '))\n",
    "c = int(input('Nhap gia tri c = '))\n",
    "\n",
    "delta = b**2 - 4*a*c\n",
    "if (delta < 0):\n",
    "    print('Phuong trinh vo nghiem')\n",
    "elif (delta == 0):\n",
    "    x = -b/(2*a)\n",
    "    print('Phuong trinh co nghiem kep la ', x)\n",
    "else:\n",
    "    x1 = (-b + math.sqrt(delta))/(2*a)\n",
    "    x2 = (-b - math.sqrt(delta))/(2*a)\n",
    "    print('Phuong trinh co 2 nghiem x1, x2 la', x1, x2)\n"
   ]
  },
  {
   "cell_type": "markdown",
   "metadata": {},
   "source": []
  }
 ],
 "metadata": {
  "kernelspec": {
   "display_name": "Python 3.10.5 64-bit",
   "language": "python",
   "name": "python3"
  },
  "language_info": {
   "codemirror_mode": {
    "name": "ipython",
    "version": 3
   },
   "file_extension": ".py",
   "mimetype": "text/x-python",
   "name": "python",
   "nbconvert_exporter": "python",
   "pygments_lexer": "ipython3",
   "version": "3.10.5 (tags/v3.10.5:f377153, Jun  6 2022, 16:14:13) [MSC v.1929 64 bit (AMD64)]"
  },
  "orig_nbformat": 4,
  "vscode": {
   "interpreter": {
    "hash": "6d5b3700750bb233553397e1738ff408efdf1f93150754eb3685d72f9fc5da7b"
   }
  }
 },
 "nbformat": 4,
 "nbformat_minor": 2
}
