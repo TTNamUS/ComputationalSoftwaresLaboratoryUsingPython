{
 "cells": [
  {
   "cell_type": "markdown",
   "metadata": {},
   "source": [
    "# <CENTER><STRONG> EXERCISE WEEK 3 </STRONG></CENTER>"
   ]
  },
  {
   "cell_type": "markdown",
   "metadata": {},
   "source": [
    "## <strong>`PHẦN 1:`</strong>"
   ]
  },
  {
   "cell_type": "markdown",
   "metadata": {},
   "source": [
    "### <strong>`BÀI TẬP 1:`</strong> Nhập một số bất kỳ. Hãy đọc giá trị của số nguyên đó nếu nó có giá trị từ 1 đến 9, ngược lại thông báo không đọc được."
   ]
  },
  {
   "cell_type": "markdown",
   "metadata": {},
   "source": [
    "### <strong>`BÀI TẬP 2:`</strong> Nhập vào một tháng và năm bất kỳ. Hãy xuất ra thông báo cho biết tháng đó có bao nhiêu ngày. (năm nhuận là năm chia hết cho 400 hoặc chia hết cho 4 mà không chia hết cho 100)\n"
   ]
  },
  {
   "cell_type": "markdown",
   "metadata": {},
   "source": [
    "### <strong>`BÀI TẬP 3:`</strong> Dùng lệnh `“switch.....case - otherwise...end”` lập bảng cửu chương từ 2 đến 9"
   ]
  },
  {
   "cell_type": "markdown",
   "metadata": {},
   "source": [
    "### <strong>`BÀI TẬP 4:`</strong> Tính tiền đi taxi từ số km nhập vào. Biết:\n",
    ">a) 1 km đầu giá 15000 đ  \n",
    ">b) Từ km thứ 2 đến km thứ 5 giá 13500 đ  \n",
    ">c) Từ km thứ 6 trở đi giá 11000 đ  \n",
    ">d) Nếu trên 120km được giảm 10% tổng tiền"
   ]
  },
  {
   "cell_type": "markdown",
   "metadata": {},
   "source": [
    "### <strong>`BÀI TẬP 5:`</strong> Nhập L là một chiều dài với đơn vị là mét (m). Tiếp theo nhập đơn vị cần đổi kilomet(km), hemtomet(hm), decamet(dam), deximet(dm), centimet(cm), milimet(mm). Hãy xuất ra kết quả L1 đổi chiều dài L từ đơn vị mét(m) sang các đơn vị vừa nêu.\n",
    "> Ví dụ: Ta nhập vào L = 1, units = cm. Thì kết quả là L1 = 100  "
   ]
  },
  {
   "cell_type": "markdown",
   "metadata": {},
   "source": [
    "### <strong>`BÀI TẬP 6:`</strong> Nhập vào  \n",
    "- trọng lượng cơ thể M: tính bằng kg;  \n",
    "- chiều cao h chiều cao: tính bằng m; \n",
    " \n",
    "Tính chỉ số BMI theo công thức sau:\n",
    "$$BMI = \\frac{M}{{{h^2}}}$$\n",
    "Xuất ra đánh giá chỉ số BMI như bảng dưới đây\n",
    "- Dưới chuẩn: BMI ít hơn 18.5  \n",
    "- Chuẩn: BMI từ 18,5 - 25  \n",
    "- Thừa cân: BMI từ 25-30\n",
    "- Béo - nên giảm cân: BMI 30 - 40\n",
    "- Rất béo – cần giảm cân ngay: BMI trên 40\n"
   ]
  },
  {
   "cell_type": "markdown",
   "metadata": {},
   "source": [
    "### <strong>`BÀI TẬP 7:`</strong> Nhập vào một vector. Tiếp theo nhập chuẩn cần tính 1, 2, inf (vô cùng). Xuất ra kết quả tính chuẩn của vector.\n",
    "$${\\left\\| x \\right\\|_1} = \\sum\\limits_{i = 1}^n {\\left| {{x_i}} \\right|} $$\n",
    "$${\\left\\| x \\right\\|_2} = {\\left( {\\sum\\limits_{i = 1}^n {x_i^2} } \\right)^{1/2}}$$\n",
    "$${\\left\\| x \\right\\|_\\infty } = \\mathop {\\max }\\limits_{1 \\leqslant i \\leqslant n} \\left| {{x_i}} \\right|$$\n",
    "Với $x = \\left( {{x_1}, \\ldots ,{x_n}} \\right)$"
   ]
  },
  {
   "cell_type": "markdown",
   "metadata": {},
   "source": []
  },
  {
   "cell_type": "markdown",
   "metadata": {},
   "source": [
    "## <strong>`PHẦN 2:`</strong>"
   ]
  },
  {
   "cell_type": "markdown",
   "metadata": {},
   "source": [
    "### <strong>`BÀI TẬP 1:`</strong> Nhập vào một vector. Tìm giá trị lớn nhất (max) và nhỏ nhất (min) của vector."
   ]
  },
  {
   "cell_type": "markdown",
   "metadata": {},
   "source": [
    "### <strong>`BÀI TẬP 2:`</strong> Nhập vào một vecto. Tính\n",
    "- Tổng các số chẵn\n",
    "- Tổng các số lẽ\n",
    "- Tổng các số nguyên tố chẵn\n",
    "- Tổng các số nguyên tố lẽ\n",
    "- Tổng các số chính phương"
   ]
  },
  {
   "attachments": {},
   "cell_type": "markdown",
   "metadata": {},
   "source": [
    "### <strong>`BÀI TẬP 3:`</strong> Cho dãy Fibonacci\n",
    "$$F\\left( n \\right) = \\begin{cases}\n",
    "   1  \\\\ \n",
    "   1  \\\\ \n",
    "   {F\\left( {n - 1} \\right) + F\\left( {n - 2} \\right)} \\\\ \n",
    "\\end{cases}\n",
    "\\begin{matrix}\n",
    "   n = 1  \\\\ \n",
    "   n = 2  \\\\ \n",
    "   n > 2 \\\\ \n",
    "\\end{matrix}\n",
    "$$\n",
    "- Tính tổng 10 số Fibonacci đầu tiên \n",
    "- Tìm n sao cho $F\\left( n \\right)$< 1000 và $F\\left( n \\right) \\ge$ 1000\n",
    "- Tính $\\sum\\limits_{n = 1}^{50} {F\\left( n \\right)} $ với $F\\left( n \\right)$ chia hết cho 2 hoặc 5.\n",
    "\n"
   ]
  },
  {
   "attachments": {},
   "cell_type": "markdown",
   "metadata": {},
   "source": [
    "### <strong>`BÀI TẬP 4:`</strong> Tạo một vec tơ ngẫu nhiên và tính tổng bình phương các phần tử (dùng vòng lặp for).\n"
   ]
  },
  {
   "attachments": {},
   "cell_type": "markdown",
   "metadata": {},
   "source": [
    "### <strong>`BÀI TẬP 5:`</strong> Cho một vectơ bất kỳ, đếm xem trong vec tơ có bao nhiêu giá trị âm, bao nhiêu giá trị dương, và bao nhiêu giá trị bằng 0."
   ]
  },
  {
   "attachments": {},
   "cell_type": "markdown",
   "metadata": {},
   "source": [
    "### <strong>`BÀI TẬP 6:`</strong> Cho các hàm có công thức chuỗi Maclaurin sau\n",
    "$${e^x} = \\sum\\limits_{k = 0}^n {{{{x^k}} \\over {k!}}}  = 1 + x + {{{x^2}} \\over {2!}} + {{{x^3}} \\over {3!}} +  \\ldots $$\n",
    "$$\\sin \\left( x \\right) = \\sum\\limits_{k = 0}^n {{{{{\\left( { - 1} \\right)}^k}} \\over {\\left( {2k + 1} \\right)!}}} {x^{2k + 1}} = x - {{{x^3}} \\over {3!}} + {{{x^5}} \\over {5!}} -  \\ldots $$\n",
    "$$\\cos \\left( x \\right) = \\sum\\limits_{k = 0}^n {{{{{\\left( { - 1} \\right)}^k}} \\over {\\left( {2k} \\right)!}}} {x^{2k}} = 1 - {{{x^2}} \\over {2!}} + {{{x^4}} \\over {4!}} -  \\ldots $$\n",
    "Tìm n để kết quả sai số so với hàm của MATLAB là ${10^{ - 6}}$, ${10^{ - 12}}$. Làm theo hai cách `for` và `while`."
   ]
  },
  {
   "cell_type": "code",
   "execution_count": null,
   "metadata": {},
   "outputs": [],
   "source": []
  },
  {
   "cell_type": "code",
   "execution_count": null,
   "metadata": {},
   "outputs": [],
   "source": []
  }
 ],
 "metadata": {
  "kernelspec": {
   "display_name": "Python 3.10.5 64-bit",
   "language": "python",
   "name": "python3"
  },
  "language_info": {
   "codemirror_mode": {
    "name": "ipython",
    "version": 3
   },
   "file_extension": ".py",
   "mimetype": "text/x-python",
   "name": "python",
   "nbconvert_exporter": "python",
   "pygments_lexer": "ipython3",
   "version": "3.10.5 (tags/v3.10.5:f377153, Jun  6 2022, 16:14:13) [MSC v.1929 64 bit (AMD64)]"
  },
  "orig_nbformat": 4,
  "vscode": {
   "interpreter": {
    "hash": "6d5b3700750bb233553397e1738ff408efdf1f93150754eb3685d72f9fc5da7b"
   }
  }
 },
 "nbformat": 4,
 "nbformat_minor": 2
}
