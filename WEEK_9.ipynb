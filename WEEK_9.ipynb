{
 "cells": [
  {
   "attachments": {},
   "cell_type": "markdown",
   "metadata": {},
   "source": [
    "# <CENTER><STRONG> EXERCISE WEEK 9 </STRONG></CENTER>"
   ]
  },
  {
   "attachments": {},
   "cell_type": "markdown",
   "metadata": {},
   "source": [
    "### <strong>`BÀI TẬP 1:`</strong> Cho\n",
    "$$A=\\left({\\begin{matrix}\n",
    "   2 & 4 & {5 \\over 2} \\\\ \n",
    "   -{3 \\over 4} & 2 & {1 \\over 4}  \\\\ \n",
    "   {1 \\over 4} & {1 \\over 2} & 2  \\\\\n",
    "\\end{matrix}}\\right)\n",
    "\\quad\n",
    "B=\\left({\\begin{matrix}\n",
    "   1 & -{1 \\over 2} & {3 \\over 4} \\\\ \n",
    "   {3 \\over 2} & {1 \\over 2} & -2 \\\\ \n",
    "   {1 \\over 4} & 1 & -{1 \\over 2}  \\\\\n",
    "\\end{matrix}}\\right)\n",
    "$$\n",
    "**a)** Tính ${A^{ - 1}}{B^{ - 1}},{\\left( {AB} \\right)^{ - 1}},{\\left( {BA} \\right)^{ - 1}}$. Nhận xét về kết quả.\n",
    "\n",
    "**b)** Tính ${\\left( {{A^{ - 1}}} \\right)^{\\rm T}},{\\left( {{A^{\\rm T}}} \\right)^{ - 1}}$. Nhận xét về kết quả."
   ]
  },
  {
   "attachments": {},
   "cell_type": "markdown",
   "metadata": {},
   "source": [
    "### <strong>`BÀI TẬP 2:`</strong> \n",
    "### 2.1) Cho hệ phương trình sau:\n",
    "$$\\begin{cases}\n",
    "   x & - 2y & + 3z & = & 9 \\\\ \n",
    "   -x & + 3y &  & = & -4 \\\\ \n",
    "   2x & - 5y & + 5z & = & 17 \\\\\n",
    "\\end{cases}\n",
    "$$\n",
    "Giải hệ trên bằng lệnh\n",
    "### 2.2) Viết hệ phương trình tuyến tính sau dưới $AX = B$, và giải hệ bằng lệnh $X = A\\backslash B$\n",
    "$$\\begin{cases}\n",
    "   3x & +3y & +4z & = & 2 \\\\ \n",
    "   x & +y & +4z & = & -2 \\\\ \n",
    "   2x & -5y & +4z & = & 3 \\\\\n",
    "\\end{cases}\n",
    "$$"
   ]
  },
  {
   "attachments": {},
   "cell_type": "markdown",
   "metadata": {},
   "source": [
    "### <strong>`BÀI TẬP 3:`</strong> Vẽ đồ thị, xác định giao điểm và đánh dấu vào hình của:\n",
    "a) Hai đồ thị $f\\left( x \\right) = x\\sin \\left( x \\right),\\quad g\\left( x \\right) = x\\cos \\left( x \\right)$\n",
    "b) Đồ thị sau $$x = 5\\left( {\\cos \\left( t \\right) + t\\sin \\left( t \\right)} \\right)\\quad y = 5\\left( {\\sin \\left( t \\right) - t\\cos \\left( t \\right)} \\right)$$\n",
    "và đường thẳng $y = x$, với $t \\in \\left[ { - 20,20} \\right]$"
   ]
  },
  {
   "attachments": {},
   "cell_type": "markdown",
   "metadata": {},
   "source": [
    "### <strong>`BÀI TẬP 4:`</strong> Cho các điểm A(1, 3), B(−3, 5), C (2, −4), D(−1, −3) và O(0, 0). Hãy vẽ trên cùng một khung hình mỗi yêu cầu sau  \n",
    "**a)** Vẽ điểm A bởi đường tròn đỏ, điểm B bởi đường hình vuông\n",
    "xanh dương, điểm C bởi đường hình tam giác trái tím, điểm\n",
    "D bởi đường hình tam giác phải vàng và điểm O bởi đường\n",
    "hình thoi đen.\n",
    "\n",
    "**b)** Vẽ các đoạn thẳng AB, OC , DB, CB, OA có độ dày 2pt.\n",
    "\n",
    "**c)** Vẽ các tam giác ABC , ABD và ACD và các tứ giác\n",
    "ABCD, AOCD có màu sắc và độ dày tự chọn."
   ]
  },
  {
   "attachments": {},
   "cell_type": "markdown",
   "metadata": {},
   "source": [
    "### <strong>`BÀI TẬP 5:`</strong> Sử dụng quy tắc Cramer để giải hệ phương trình.\n",
    "$$\\begin{cases}\n",
    "   3x & +3y & + 4z & = & 2 \\\\ \n",
    "   x & +y & +4z& = & -2 \\\\ \n",
    "   2x & -5y & +4z & = & 3 \\\\\n",
    "\\end{cases}\n",
    "$$"
   ]
  },
  {
   "attachments": {},
   "cell_type": "markdown",
   "metadata": {},
   "source": [
    "### <strong>`BÀI TẬP 6:`</strong> Ta có thể tìm ma trận khả nghịch bằng cách biến đổi sơ cấp $\\left( {A|I} \\right) \\to \\left( {I|{A^{ - 1}}} \\right)$. Áp dụng tìm ma trận khả nghịch của ma trận sau:\n",
    "$$A=\\left({\\begin{matrix}\n",
    "   1 & 2 & 3 & 4\\\\ \n",
    "   2 & 5 & 4 & 7\\\\ \n",
    "   3 & 7 & 8 & 12\\\\ \n",
    "   4 & 8 & 14 & 19\\\\ \n",
    "\\end{matrix}}\\right)\n",
    "$$"
   ]
  },
  {
   "attachments": {},
   "cell_type": "markdown",
   "metadata": {},
   "source": [
    "### <strong>`BÀI TẬP 7:`</strong> Tạo ngẫu nhiên ma trận A là ma trận vuông có 25 phần tử thuộc R  \n",
    "**a)** Kiểm tra ma trận A có khả nghịch hay không, nếu không thì cho lại ma trận ngẫu nhiên khác.\n",
    "\n",
    "**b)** Xác định ma trận nghịch đảo của A bằng phép biến đổi sơ cấp trên dòng.\n",
    "\n",
    "**c)** Xác định ma trận nghịch đảo của A bằng hàm inv"
   ]
  },
  {
   "attachments": {},
   "cell_type": "markdown",
   "metadata": {},
   "source": [
    "### <strong>`BÀI TẬP 8:`</strong> Áp dụng lệnh ở Bài tập 5(có thể biến đổi lệnh áp dụng cho ma trận A cấp n bất kỳ thì càng tốt) giải hệ sau:\n",
    "a) \n",
    "$$\\begin{cases}\n",
    "   {x_1} & +3{x_2} & +3{x_3} & -2{x_4} & = & 6 \\\\ \n",
    "   2{x_1} & -1{x_2} & -2{x_3} & -3{x_4} & = & 4 \\\\ \n",
    "   3{x_1} & +2{x_2} & -2{x_3} & +2{x_4} & = & 4 \\\\ \n",
    "   2{x_1} & -3{x_2} & +2{x_3} & +{x_4} & = & -8 \\\\ \n",
    "\\end{cases}\n",
    "$$\n",
    "b) \n",
    "$$\\begin{cases}\n",
    "   {x_1} & +3{x_2} & +5{x_3} & -4{x_4} &         & = & 1 \\\\ \n",
    "   {x_1} & +3{x_2} & +2{x_3} & -2{x_4} & +{x_5} & = & -1 \\\\ \n",
    "   {x_1} & -2{x_2} & +{x_3} & -{x_4} & -{x_5} & = & 3 \\\\ \n",
    "   {x_1} & -4{x_2} & +{x_3} & +{x_4} & -{x_5} & = & 3 \\\\ \n",
    "   {x_1} & +2{x_2} & +{x_3} & -{x_4} & +{x_5} & = & -1 \\\\ \n",
    "\\end{cases}\n",
    "$$"
   ]
  },
  {
   "attachments": {},
   "cell_type": "markdown",
   "metadata": {},
   "source": [
    "### <strong>`BÀI TẬP 9:`</strong> Viết function có dạng sau:\n",
    "$$function\\left[ x \\right] = He\\_PT\\left( {A,b} \\right)$$\n",
    "dùng quy tắc Cramer để giải hệ AX = B. Với A là ma trận vuông cấp n bất kỳ.\n",
    "Lưu ý: Trong function cần kiểm tra xem ma trận A có vuông không, nếu không vuông thì không thể giải được theo quy tắc Cramer."
   ]
  },
  {
   "cell_type": "markdown",
   "metadata": {},
   "source": []
  }
 ],
 "metadata": {
  "kernelspec": {
   "display_name": "Python 3",
   "language": "python",
   "name": "python3"
  },
  "language_info": {
   "name": "python",
   "version": "3.10.5 (tags/v3.10.5:f377153, Jun  6 2022, 16:14:13) [MSC v.1929 64 bit (AMD64)]"
  },
  "orig_nbformat": 4,
  "vscode": {
   "interpreter": {
    "hash": "6d5b3700750bb233553397e1738ff408efdf1f93150754eb3685d72f9fc5da7b"
   }
  }
 },
 "nbformat": 4,
 "nbformat_minor": 2
}
