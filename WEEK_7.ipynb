{
 "cells": [
  {
   "attachments": {},
   "cell_type": "markdown",
   "metadata": {},
   "source": [
    "# <CENTER><STRONG> EXERCISE WEEK 7 </STRONG></CENTER>"
   ]
  },
  {
   "attachments": {},
   "cell_type": "markdown",
   "metadata": {},
   "source": [
    "### <strong>`BÀI TẬP 1:`</strong> Vẽ đồ thị hàm số $x,{x^3},{e^x},{e^{{x^2}}}$ với $0 < x < 4$."
   ]
  },
  {
   "attachments": {},
   "cell_type": "markdown",
   "metadata": {},
   "source": [
    "### <strong>`BÀI TẬP 2:`</strong> Vẽ đồ thị hàm số ${e^{{x^2}}}\\;\\left( {0 < x < 4} \\right)$ nhưng với đường gạch chấm, màu xanh và dấu (marker) là hình tam giác hướng lên trên.\n"
   ]
  },
  {
   "attachments": {},
   "cell_type": "markdown",
   "metadata": {},
   "source": [
    "### <strong>`BÀI TẬP 3:`</strong> Vẽ đồ thị hàm số $$f\\left( x \\right) = {x \\over {1 + {x^4}}}\\quad  - 5 \\le x \\le 5$$ với Kiểu đường là nét gạch chấm, độ rộng 2pt, màu đỏ thẫm. Dấu (marker) là hình tròn, độ rộng 6pt, màu tô của dấu là xanh, màu đường viền là đen."
   ]
  },
  {
   "attachments": {},
   "cell_type": "markdown",
   "metadata": {},
   "source": [
    "### <strong>`BÀI TẬP 4:`</strong> Vẽ các hàm số $sin\\left( x \\right),{\\rm{ }}cos\\left( x \\right),{\\rm{ }}tan\\left( x \\right)$ trên cùng một đồ thị."
   ]
  },
  {
   "attachments": {},
   "cell_type": "markdown",
   "metadata": {},
   "source": [
    "### <strong>`BÀI TẬP 5:`</strong> Hãy vẽ đồ thị hàm số $y = {x^3} - 3x$.  \n",
    "a) Tìm các điểm cực trị và chú thích trên đồ thị.\n",
    "\n",
    "b) Vẽ đồ thị của đạo hàm bậc nhất và đạo hàm bậc hai của hàm số trong cùng một khung hình."
   ]
  },
  {
   "attachments": {},
   "cell_type": "markdown",
   "metadata": {},
   "source": [
    "### <strong>`BÀI TẬP 6:`</strong> Hãy vẽ các đồ thị riêng trong từng khung hình con và chú thích các đồ thị đó\n",
    "a) $f\\left( x \\right) = \\left| {{x^2} + 3x} \\right|,\\quad g\\left( x \\right) = {x^3} - x - 2$ với hai khung hình nằm\n",
    "ngang.\n",
    "\n",
    "b) $f\\left( x \\right) = {x^2},\\quad g\\left( x \\right) = \\sqrt x $ với hai khung hình nằm dọc.\n",
    "\n",
    "c) $f\\left( x \\right) = {e^x},\\quad g\\left( x \\right) = \\ln \\left( x \\right),\\quad h\\left( x \\right) = \\sin \\left( x \\right),\\quad k\\left( x \\right) = \\cos \\left( x \\right)$ với khung hình 2 × 2."
   ]
  },
  {
   "attachments": {},
   "cell_type": "markdown",
   "metadata": {},
   "source": [
    "### <strong>`BÀI TẬP 7:`</strong> Vẽ đồ thị hàm số sau trên miền $\\left[ { - 2,2} \\right] \\times \\left[ { - 2,2} \\right]$, sử dụng các hàm plot3, mesh, meshc, meshz, surf, surfc, waterfall.  \n",
    "a) $f\\left( {x,y} \\right) = 3x - {x^3} - 2{y^2} + {y^4}$\n",
    "\n",
    "b) $f\\left( {x,y} \\right) = \\sin \\left( {\\pi x} \\right) + \\sin \\left( {\\pi y} \\right) + \\sin \\left( {\\pi x + \\pi y} \\right)$\n",
    "\n",
    "c) $f\\left( {x,y} \\right) = {e^x} + {y^4} - {x^3} + 4\\cos \\left( {\\pi y} \\right)$"
   ]
  },
  {
   "attachments": {},
   "cell_type": "markdown",
   "metadata": {},
   "source": [
    "### <strong>`BÀI TẬP 8:`</strong> Vẽ hai đồ thị trong từng khung hình con và chú thích cho các đồ thị đó\n",
    "$$f\\left( x \\right) = {e^{ - {x^2}}}$$\n",
    "$$f\\left( {x,y} \\right) = {e^{ - \\left( {{x^2} + {y^2}} \\right)}}$$"
   ]
  },
  {
   "attachments": {},
   "cell_type": "markdown",
   "metadata": {},
   "source": [
    "### <strong>`BÀI TẬP 9:`</strong> Viết một function có dạng như sau:\n",
    "$$function\\left[ X \\right] = {\\rm{ }}tamgiacvuong\\left( {X0,{\\rm{ }}a,{\\rm{ }}b} \\right)$$\n",
    "là function vẽ tam giac vuông ABC ( A là góc vuông ) trong đó X0 là tọa độ điểm A, a là chiều dài AB, b là chiều dài AC. Áp dụng: Vẽ tam giác vuông ABC biết a = 5, b = 4, A(-3, -3).\n"
   ]
  },
  {
   "attachments": {},
   "cell_type": "markdown",
   "metadata": {},
   "source": [
    "### <strong>`BÀI TẬP 10:`</strong> Viết một function có dạng như sau:\n",
    "$$function\\left[ X \\right] = {\\rm{ }}hinhchunhat\\left( {X0,{\\rm{ }}d,{\\rm{ }}r} \\right)$$\n",
    "là function vẽ hình chữ nhật ABCD trong đó X0 là tọa độ điểm A, d là chiều dài, r là chiều rộng. Áp dụng Vẽ hình chữ nhật ABCD biết d = 5, r = 4, A(-3, -3)."
   ]
  },
  {
   "attachments": {},
   "cell_type": "markdown",
   "metadata": {},
   "source": [
    "### <strong>`BÀI TẬP 11:`</strong> Cho hình tròn (C) có bán kính r và tâm O. Viết một function có dạng như sau:\n",
    "$$function\\left[ X \\right] = {\\rm{ }}hinhtron\\left( {X0,r} \\right)$$\n",
    "trong đó X0 là tọa độ tâm hình tròn, r là bán kính đường tròn. Áp dụng Vẽ hình tròn (C) biết r = 4, O(0, 0)."
   ]
  }
 ],
 "metadata": {
  "kernelspec": {
   "display_name": "Python 3",
   "language": "python",
   "name": "python3"
  },
  "language_info": {
   "codemirror_mode": {
    "name": "ipython",
    "version": 3
   },
   "file_extension": ".py",
   "mimetype": "text/x-python",
   "name": "python",
   "nbconvert_exporter": "python",
   "pygments_lexer": "ipython3",
   "version": "3.10.5 (tags/v3.10.5:f377153, Jun  6 2022, 16:14:13) [MSC v.1929 64 bit (AMD64)]"
  },
  "orig_nbformat": 4,
  "vscode": {
   "interpreter": {
    "hash": "6d5b3700750bb233553397e1738ff408efdf1f93150754eb3685d72f9fc5da7b"
   }
  }
 },
 "nbformat": 4,
 "nbformat_minor": 2
}
