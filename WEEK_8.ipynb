{
 "cells": [
  {
   "attachments": {},
   "cell_type": "markdown",
   "metadata": {},
   "source": [
    "# <CENTER><STRONG> EXERCISE WEEK 8 </STRONG></CENTER>"
   ]
  },
  {
   "attachments": {},
   "cell_type": "markdown",
   "metadata": {},
   "source": [
    "### <strong>`BÀI TẬP 1:`</strong> Cho ma trận\n",
    "$$A=\\left({\\begin{matrix}\n",
    "   2 & 4 & 1  \\\\ \n",
    "   6 & 7 & 2  \\\\ \n",
    "   3 & 5 & 9  \\\\\n",
    "\\end{matrix}}\\right)\n",
    "$$\n",
    "### Vẽ đồ thị cột biểu diễn ma trận trên. Ghi chú thích."
   ]
  },
  {
   "attachments": {},
   "cell_type": "markdown",
   "metadata": {},
   "source": [
    "### <strong>`BÀI TẬP 2:`</strong> Trong một báo cáo thị trường đồ uống ở một khu vực của TP.HCM cho biết có 850 người uống coca, 720 uống Pepsi, và 600 uống ước uống tinh khiết, còn lại 320 sử dụng các loại khác. Hãy vẽ biểu đồ hình quạt minh họa số liệu trên."
   ]
  },
  {
   "attachments": {},
   "cell_type": "markdown",
   "metadata": {},
   "source": [
    "### <strong>`BÀI TẬP 3:`</strong> Vẽ đồ thị hàm số sau, sử dụng các hàm plot3, mesh, meshc, surf, surfc.  \n",
    "**a)** $z\\left( {x,y} \\right) = {x^2}y{e^{ - ({x^2} + {y^2})}}$ với $ - 4 \\le x,y \\le 4$\n",
    "\n",
    "**b)** $z = 0.5\\left| x \\right| + 0.5\\left| y \\right|$ với $ - 2 \\le x,y \\le 2$\n",
    "\n",
    "**c)** $z = {{\\sin R} \\over R}$ với $R = \\sqrt {{x^2} + {y^2}} ,\\quad  - 10 \\le x,y \\le 10$"
   ]
  },
  {
   "attachments": {},
   "cell_type": "markdown",
   "metadata": {},
   "source": [
    "### <strong>`BÀI TẬP 4:`</strong> Sử dụng hàm plot vẽ đồ thị cho bởi các hàm tham số sau\n",
    "$$x\\left( t \\right) = 5\\cos \\left( t \\right)\\quad y\\left( t \\right) = 5\\sin \\left( t \\right)\\quad 0 \\le t \\le 2\\pi $$"
   ]
  },
  {
   "attachments": {},
   "cell_type": "markdown",
   "metadata": {},
   "source": [
    "### <strong>`BÀI TẬP 5:`</strong> Sử dụng hàm plot3 vẽ đồ thị cho bởi các hàm tham số sau\n",
    "$$x\\left( t \\right) = \\cos \\left( t \\right)\\quad y\\left( t \\right) = \\sin \\left( t \\right)\\quad z = t\\quad 0 \\le t \\le 6\\pi $$"
   ]
  },
  {
   "attachments": {},
   "cell_type": "markdown",
   "metadata": {},
   "source": [
    "### <strong>`BÀI TẬP 6:`</strong> Sử dụng hàm mesh vẽ đồ thị cho bởi các hàm tham số sau\n",
    "$$x\\left( {u,v} \\right) = \\cos \\left( v \\right)\\cos \\left( u \\right),\\quad y\\left( {u,v} \\right) = \\cos \\left( v \\right)\\sin \\left( u \\right),\\quad z\\left( {u,v} \\right) = \\sin \\left( v \\right)$$\n",
    "Với $0 \\le u \\le 2\\pi ,\\quad  - \\pi /2 \\le v \\le \\pi /2$"
   ]
  },
  {
   "attachments": {},
   "cell_type": "markdown",
   "metadata": {},
   "source": [
    "### <strong>`BÀI TẬP 7:`</strong> Sử dụng hàm plot vẽ đồ thị cho bởi các hàm tham số sau\n",
    "$$x\\left( t \\right) = \\left[ {4 + 3\\cos \\left( {11t} \\right)} \\right]\\cos \\left( t \\right)\\quad y\\left( t \\right) = \\left[ {4 + 3\\cos \\left( {11t} \\right)} \\right]\\sin \\left( t \\right)\\quad 0 \\le t \\le 2\\pi $$"
   ]
  },
  {
   "attachments": {},
   "cell_type": "markdown",
   "metadata": {},
   "source": [
    "### <strong>`BÀI TẬP 8:`</strong> Sử dụng hàm plot3 vẽ đồ thị cho bởi các hàm tham số sau\n",
    "$$x = \\sqrt t \\sin \\left( {2t} \\right)\\quad y = \\sqrt t \\cos \\left( {2t} \\right)\\quad z = 0.5t\\quad 0 \\le t \\le 6\\pi $$"
   ]
  },
  {
   "attachments": {},
   "cell_type": "markdown",
   "metadata": {},
   "source": [
    "### <strong>`BÀI TẬP 9:`</strong> Sử dụng hàm mesh vẽ đồ thị cho bởi các hàm tham số sau\n",
    "$$x\\left( {u,v} \\right) = \\cos \\left( u \\right)\\quad y\\left( {u,v} \\right) = \\sin \\left( u \\right)\\quad z\\left( {u,v} \\right) = v$$\n",
    "Với $0 \\le u \\le 2\\pi ,\\quad  - 5 \\le v \\le 5$."
   ]
  },
  {
   "attachments": {},
   "cell_type": "markdown",
   "metadata": {},
   "source": [
    "### <strong>`BÀI TẬP 10:`</strong> Sử dụng hàm mesh vẽ đồ thị cho bởi các hàm tham số sau\n",
    "$$x\\left( {u,v} \\right) = \\left( {1 + 0.5\\cos \\left( v \\right)} \\right)\\cos \\left( u \\right)$$\n",
    "$$y\\left( {u,v} \\right) = \\left( {1 + 0.5\\cos \\left( v \\right)} \\right)\\sin \\left( u \\right)$$\n",
    "$$z\\left( {u,v} \\right) = 0.5\\sin \\left( v \\right)$$\n",
    "Với $0 \\le u,v \\le 2\\pi $"
   ]
  },
  {
   "attachments": {},
   "cell_type": "markdown",
   "metadata": {},
   "source": [
    "### <strong>`BÀI TẬP 11:`</strong> Sử dụng hàm mesh vẽ đồ thị cho bởi các hàm tham số sau\n",
    "$$x\\left( {u,v} \\right) = \\cos \\left( u \\right)\\quad y\\left( {u,v} \\right) = \\sin \\left( u \\right)\\quad z\\left( {u,v} \\right) = v$$\n",
    "**Và**\n",
    "$$x1\\left( {u,v} \\right) = 0.5\\cos \\left( u \\right)\\quad y1\\left( {u,v} \\right) = v\\quad z1\\left( {u,v} \\right) = 0.5\\sin \\left( u \\right)$$\n",
    "**Với** $0 \\le u \\le 2\\pi ,\\quad  - 2 \\le v \\le 2$. **Trên cùng một đồ thị.**"
   ]
  },
  {
   "attachments": {},
   "cell_type": "markdown",
   "metadata": {},
   "source": [
    "### <strong>`BÀI TẬP 12:`</strong> Sử dụng hàm mesh vẽ đồ thị cho bởi các hàm tham số sau\n",
    "$$x\\left( {u,v} \\right) = \\cos \\left( u \\right)\\quad y\\left( {u,v} \\right) = \\sin \\left( u \\right)\\quad z\\left( {u,v} \\right) = v$$\n",
    "**Với** $0 \\le u \\le 2\\pi ,\\quad  - 2 \\le v \\le 2$.\n",
    "**Và**\n",
    "$$x1\\left( {s,t} \\right) = 1 + \\cos \\left( s \\right)\\left( {1 + {1 \\over 4}\\cos \\left( t \\right)} \\right)$$\n",
    "$$y1\\left( {s,t} \\right) = {1 \\over 4}\\sin \\left( t \\right)$$\n",
    "$$z1\\left( {s,t} \\right) = {1 \\over 2} + \\sin \\left( s \\right)\\left( {1 + {1 \\over 4}\\cos \\left( t \\right)} \\right)$$\n",
    "**Với** $ - \\pi /2 \\le s \\le \\pi /2,\\quad 0 \\le t \\le 2\\pi $. **Trên cùng một đồ thị. Với lệnh axis([-2 3 -2 2 -2 2])**"
   ]
  }
 ],
 "metadata": {
  "kernelspec": {
   "display_name": "Python 3",
   "language": "python",
   "name": "python3"
  },
  "language_info": {
   "name": "python",
   "version": "3.10.5 (tags/v3.10.5:f377153, Jun  6 2022, 16:14:13) [MSC v.1929 64 bit (AMD64)]"
  },
  "orig_nbformat": 4,
  "vscode": {
   "interpreter": {
    "hash": "6d5b3700750bb233553397e1738ff408efdf1f93150754eb3685d72f9fc5da7b"
   }
  }
 },
 "nbformat": 4,
 "nbformat_minor": 2
}
