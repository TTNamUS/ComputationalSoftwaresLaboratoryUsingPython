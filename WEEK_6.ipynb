{
 "cells": [
  {
   "attachments": {},
   "cell_type": "markdown",
   "metadata": {},
   "source": [
    "# <CENTER><STRONG> EXERCISE WEEK 6 </STRONG></CENTER>"
   ]
  },
  {
   "attachments": {},
   "cell_type": "markdown",
   "metadata": {},
   "source": [
    "### <strong>`BÀI TẬP 1:`</strong> Cho ma trận\n",
    "$$A=\\left({\\begin{matrix}\n",
    "   2 & 4 & 1  \\\\ \n",
    "   6 & 7 & 2  \\\\ \n",
    "   3 & 5 & 9  \\\\\n",
    "\\end{matrix}}\\right)\n",
    "$$\n",
    "Viết chương trình\n",
    "\n",
    "**a)** Gán cho vector x là dòng thứ nhất của A.\n",
    "\n",
    "**b)** Gán cho ma trận Y là 2 dòng cuối của A.\n",
    "\n",
    "**c)** Tính tổng theo dòng ma trận A và lưu vào vector S_r.\n",
    "\n",
    "**d)** Tính tổng theo cột ma trận A và lưu vào vector S_c.\n",
    "\n",
    "**e)** Tìm phần tử lớn nhất và phần từ nhỏ nhất của ma trận.\n",
    "\n",
    "**f)** Tính tổng các phần tử của A."
   ]
  },
  {
   "attachments": {},
   "cell_type": "markdown",
   "metadata": {},
   "source": [
    "### <strong>`BÀI TẬP 2:`</strong> Hãy tạo ra ma trận 4 × 4 có giá trị nguyên nằm trong khoảng $\\left[ { - 10,10} \\right]$. Sau đó:\n",
    "**a)** Cộng mỗi phần tử của ma trận cho 15.\n",
    "\n",
    "**b)** Bình phương mỗi phần tử của ma trận.\n",
    "\n",
    "**c)** Cộng thêm 10 vào các phần tử ở dòng 1 và dòng 2.\n",
    "\n",
    "**d)** Cộng thêm 10 vào các phần tử ở cột 1 và cột 4.\n",
    "\n",
    "**e)** Tính nghịch đảo mọi phần tử.\n",
    "\n",
    "**f)** Lấy căn bậc 2 mọi phần tử.\n",
    "\n",
    "**Gợi ý:** Lệnh $rand\\left( {m,n} \\right)$ sẽ tạo ma trận m dòng, n cột có giá trị\n",
    "trong khoảng $\\left( {0,{\\rm{ }}1} \\right)$."
   ]
  },
  {
   "attachments": {},
   "cell_type": "markdown",
   "metadata": {},
   "source": [
    "### <strong>`BÀI TẬP 3:`</strong> Cho ma trận sau: \n",
    "$$A=\\left({\\begin{matrix}\n",
    "   1 & 2 & 3  \\\\ \n",
    "   5 & 6 & 7  \\\\ \n",
    "   10 & 11 & 15  \\\\\n",
    "\\end{matrix}}\\right)\n",
    "$$\n",
    "a) Sử dụng lệnh `for` tạo ra ma trận tam giác trên của ma trận A\n",
    "\n",
    "b) Sử dụng lệnh `for` tạo ra ma trận tam giác dưới của ma trận A\n",
    "\n",
    "c) Sử dụng lệnh `for` tạo ra ma trận đường chéo của ma trận A"
   ]
  },
  {
   "attachments": {},
   "cell_type": "markdown",
   "metadata": {},
   "source": [
    "### <strong>`BÀI TẬP 4:`</strong> Cho hai ma trận sau\n",
    "$$A=\\left({\\begin{matrix}\n",
    "   1 & 2 & 3 & 5 & 4 \\\\ \n",
    "   5 & 6 & 8 & 9 & 11  \\\\ \n",
    "   3 & 1 & 2 & 5 & 7  \\\\\n",
    "   9 & 2 & 5 & 6 & 12  \\\\\n",
    "   2 & 5 & 7 & 7 & 14  \\\\\n",
    "\\end{matrix}}\\right)\n",
    "\\quad \\quad\n",
    "B=\\left({\\begin{matrix}\n",
    "   11 & 12 & 20 & 30 & 32 \\\\ \n",
    "   1 & 2 & 36 & 3 & 5  \\\\ \n",
    "   31 & 22 & 25 & 9 & 11  \\\\\n",
    "   5 & 6 & 7 & 10 & 12  \\\\\n",
    "   15 & 32 & 24 & 34 & 38  \\\\\n",
    "\\end{matrix}}\\right)\n",
    "$$\n",
    "**a)** Sử dụng lệnh for thực hiện phép cộng hai ma trận S = A + B và so sánh với kết quả của MATLAB.\n",
    "\n",
    "**b)** Sử dụng lệnh for thực hiện phép nhân hai ma trận P = A.B."
   ]
  },
  {
   "attachments": {},
   "cell_type": "markdown",
   "metadata": {},
   "source": [
    "### <strong>`BÀI TẬP 5:`</strong> Cho ma trận\n",
    "$$A=\\left({\\begin{matrix}\n",
    "   1 & 2 & 3 & 4 \\\\ \n",
    "   2 & 4 & 6 & 8 \\\\ \n",
    "   3 & 6 & 9 & 12 \\\\\n",
    "\\end{matrix}}\\right)\n",
    "$$\n",
    "**a)** Cộng dòng 3 với (-3) lần dòng 1. (Dùng phép gán để thay đổi giá trị mới)\n",
    "\n",
    "**b)** Cộng dòng 2 với (-2) lần dòng 1."
   ]
  },
  {
   "attachments": {},
   "cell_type": "markdown",
   "metadata": {},
   "source": [
    "### <strong>`BÀI TẬP 6:`</strong> Cho ma trận\n",
    "$$A=\\left({\\begin{matrix}\n",
    "   1 & -1 & 5 & -1 \\\\ \n",
    "   1 & 1 & -2 & 3 \\\\ \n",
    "   3 & -1 & 8 & 1 \\\\\n",
    "   1 & 3 & -9 & 7 \\\\\n",
    "\\end{matrix}}\\right)\n",
    "$$\n",
    "Tìm hạng của B bằng cách thực hiện từng bước các phép biến đổi sơ cấp như dạng của **Bài tập 5:** để đưa ma trận B về dạng bậc thang và đếm số dòng khác 0. So sánh kết quả với hàm **rank(A)**."
   ]
  },
  {
   "cell_type": "code",
   "execution_count": null,
   "metadata": {},
   "outputs": [],
   "source": []
  }
 ],
 "metadata": {
  "kernelspec": {
   "display_name": "Python 3",
   "language": "python",
   "name": "python3"
  },
  "language_info": {
   "name": "python",
   "version": "3.10.5 (tags/v3.10.5:f377153, Jun  6 2022, 16:14:13) [MSC v.1929 64 bit (AMD64)]"
  },
  "orig_nbformat": 4,
  "vscode": {
   "interpreter": {
    "hash": "6d5b3700750bb233553397e1738ff408efdf1f93150754eb3685d72f9fc5da7b"
   }
  }
 },
 "nbformat": 4,
 "nbformat_minor": 2
}
