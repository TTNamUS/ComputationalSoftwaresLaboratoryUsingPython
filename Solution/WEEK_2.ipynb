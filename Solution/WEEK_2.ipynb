{
 "cells": [
  {
   "cell_type": "markdown",
   "metadata": {},
   "source": [
    "# <CENTER><STRONG> EXERCISE WEEK 2 </STRONG></CENTER>"
   ]
  },
  {
   "cell_type": "markdown",
   "metadata": {},
   "source": [
    "## <strong> `FOR` </strong>"
   ]
  },
  {
   "cell_type": "markdown",
   "metadata": {},
   "source": [
    "### BÀI 1: Dùng lệnh `For` để tính giai thừa:\n",
    "$$ n! = 1.2.3...n $$\n",
    "với quy ước $ 0! = 1 $"
   ]
  },
  {
   "cell_type": "code",
   "execution_count": 11,
   "metadata": {},
   "outputs": [
    {
     "name": "stdout",
     "output_type": "stream",
     "text": [
      "3! = 6\n"
     ]
    }
   ],
   "source": [
    "n = int(input('Nhap n = '))\n",
    "GT = 1\n",
    "i = 1\n",
    "while (i <= n):\n",
    "    GT *= i\n",
    "    i += 1\n",
    "print('{}! = {}'.format(n,GT))"
   ]
  },
  {
   "cell_type": "markdown",
   "metadata": {},
   "source": [
    "### BÀI 2: Tính:\n",
    "$$\\sum\\limits_{k = 5}^{20} {{{{k^2}} \\over {k - 1}}}$$"
   ]
  },
  {
   "cell_type": "code",
   "execution_count": 14,
   "metadata": {},
   "outputs": [
    {
     "name": "stdout",
     "output_type": "stream",
     "text": [
      "S =  217.71440632381038\n"
     ]
    }
   ],
   "source": [
    "sum = 0\n",
    "k = 20\n",
    "for i in range(5,k+1):\n",
    "    sum += i**2/(i-1)\n",
    "print('S = ',sum)"
   ]
  },
  {
   "cell_type": "markdown",
   "metadata": {},
   "source": [
    "### BÀI 3: Đặt\n",
    "$${s_n} = \\sum\\limits_{k = 1}^n k $$\n",
    "Tính:\n",
    "$$\\sum\\limits_{n = 1}^{10} {{s_n}} $$"
   ]
  },
  {
   "cell_type": "code",
   "execution_count": 1,
   "metadata": {},
   "outputs": [
    {
     "name": "stdout",
     "output_type": "stream",
     "text": [
      "S =  220\n"
     ]
    }
   ],
   "source": [
    "sum = 0\n",
    "for n in range(1,11):\n",
    "    s = 0\n",
    "    for k in range(1,n + 1):\n",
    "        s += k\n",
    "    sum += s\n",
    "print('S = ', sum)"
   ]
  },
  {
   "cell_type": "markdown",
   "metadata": {},
   "source": [
    "### BÀI 4: Viết chương trình dùng lệnh để `for` tính tổng các số chia hết cho 3 và nhỏ hơn 50 bằng hai cách."
   ]
  },
  {
   "cell_type": "code",
   "execution_count": 8,
   "metadata": {},
   "outputs": [
    {
     "name": "stdout",
     "output_type": "stream",
     "text": [
      "S =  408\n"
     ]
    }
   ],
   "source": [
    "# Cach 1:\n",
    "sum = 0\n",
    "for i in range(1,51):\n",
    "    if (i % 3) == 0:\n",
    "        sum += i\n",
    "print('S = ', sum)"
   ]
  },
  {
   "cell_type": "code",
   "execution_count": 15,
   "metadata": {},
   "outputs": [
    {
     "name": "stdout",
     "output_type": "stream",
     "text": [
      "S =  408\n"
     ]
    }
   ],
   "source": [
    "# Cach 2:\n",
    "sum = 0\n",
    "for i in range(3,51,3):\n",
    "    sum += i\n",
    "print('S = ', sum)"
   ]
  },
  {
   "cell_type": "markdown",
   "metadata": {},
   "source": [
    "## <strong> `WHILE` </strong>"
   ]
  },
  {
   "cell_type": "markdown",
   "metadata": {},
   "source": [
    "### BÀI 1: Nhập vào một số nguyên dương n. Dùng lệnh `while` tính:\n",
    "$$\\sum\\limits_{k = 1}^n {{1 \\over k}} $$"
   ]
  },
  {
   "cell_type": "code",
   "execution_count": 2,
   "metadata": {},
   "outputs": [
    {
     "name": "stdout",
     "output_type": "stream",
     "text": [
      "S =  2.283333333333333\n"
     ]
    }
   ],
   "source": [
    "n = int(input('Nhap so nguyen duong n = '))\n",
    "sum = 0\n",
    "k = 1;\n",
    "while (k <= n):\n",
    "    sum += 1/k\n",
    "    k += 1\n",
    "print('S = ', sum)"
   ]
  },
  {
   "cell_type": "markdown",
   "metadata": {},
   "source": [
    "### BÀI 2: Tìm giá trị lớn nhất của n để:\n",
    "$$\\sum\\limits_{k = 1}^n {{k^2} < 100} $$"
   ]
  },
  {
   "cell_type": "code",
   "execution_count": 5,
   "metadata": {},
   "outputs": [
    {
     "name": "stdout",
     "output_type": "stream",
     "text": [
      "6\n"
     ]
    }
   ],
   "source": [
    "sum = 0\n",
    "n = 0\n",
    "k = 1\n",
    "while((sum + k**2) < 100):\n",
    "    k += 1\n",
    "    sum += k**2\n",
    "    n = k\n",
    "print(n)"
   ]
  },
  {
   "cell_type": "markdown",
   "metadata": {},
   "source": [
    "### BÀI 3: Nhập vào một số nguyên dương bất kỳ, nếu số chẵn thì chia cho 2, nếu số lẻ thì cộng cho 1. Chương trình ngừng thực thi khi kết quả là 1."
   ]
  },
  {
   "cell_type": "code",
   "execution_count": 7,
   "metadata": {},
   "outputs": [],
   "source": [
    "n = int(input('Nhap so nguyen duong n = '))\n",
    "while(n != 1):\n",
    "    if (n % 2 == 0):\n",
    "        n /= 2\n",
    "    else:\n",
    "        n += 1"
   ]
  },
  {
   "cell_type": "markdown",
   "metadata": {},
   "source": [
    "### BÀI 4: Dùng lệnh rand để tạo ngẫu nhiên một số r trong khoảng [0,1] cho đến khi 𝑟 > 0.95. Mất bao nhiêu bước lặp để dừng chương trình?"
   ]
  },
  {
   "cell_type": "code",
   "execution_count": 22,
   "metadata": {},
   "outputs": [
    {
     "name": "stdout",
     "output_type": "stream",
     "text": [
      "9\n"
     ]
    }
   ],
   "source": [
    "import random as rand\n",
    "r = rand.random()\n",
    "count = 1\n",
    "while (r <= 0.95):\n",
    "    count += 1\n",
    "    r = rand.random()\n",
    "print(count)\n"
   ]
  },
  {
   "cell_type": "markdown",
   "metadata": {},
   "source": [
    "## <strong> `BÀI TẬP TỔNG HỢP` </strong>"
   ]
  },
  {
   "cell_type": "markdown",
   "metadata": {},
   "source": [
    "### BÀI 1: Nhập vào một số nguyên dương bất kỳ, kiểm tra xem số đó có phải là số nguyên tố hay không."
   ]
  },
  {
   "cell_type": "code",
   "execution_count": 25,
   "metadata": {},
   "outputs": [
    {
     "name": "stdout",
     "output_type": "stream",
     "text": [
      "2 la so nguyen to\n"
     ]
    }
   ],
   "source": [
    "n = int(input('Nhap vao mot so nguyen duong n = '))\n",
    "count = 0\n",
    "for i in range(1,n):\n",
    "    if (n % i == 0):\n",
    "        count += 1\n",
    "if (count == 1):\n",
    "    print('{} la so nguyen to'.format(n))\n",
    "else:\n",
    "    print('{} khong la so nguyen to'.format(n))"
   ]
  },
  {
   "cell_type": "markdown",
   "metadata": {},
   "source": [
    "### BÀI 2: Viết hàm tính tổ hợp n chập k $ (k \\le n) $ chỉ sử dụng `một vòng for`\n",
    "$$C_n^k = {{n!} \\over {k!\\left( {n - k} \\right)!}}$$"
   ]
  },
  {
   "cell_type": "code",
   "execution_count": 4,
   "metadata": {},
   "outputs": [
    {
     "name": "stdout",
     "output_type": "stream",
     "text": [
      "To hop 4 chap 3 = 4.0\n"
     ]
    }
   ],
   "source": [
    "n = int(input('Nhap so nguyen duong n = '))\n",
    "k = int(input('Nhap so nguyen duong k = '))\n",
    "top = 1\n",
    "bottom = 1\n",
    "for i in range(1,k + 1):\n",
    "    top *= (n - k + i)\n",
    "    bottom *= i\n",
    "ans = top/bottom\n",
    "print('To hop {} chap {} = {}'.format(n,k,ans))"
   ]
  },
  {
   "cell_type": "markdown",
   "metadata": {},
   "source": [
    "### BÀI 3: Xét dãy số\n",
    "$${u_n} = {3 \\over 5} + {2 \\over 5}{\\left( {{{ - 1} \\over 4}} \\right)^n}$$\n",
    "Tính giá trị của ${u_n}$ khi ${{n_\\varepsilon }}$ với giá trị ${{n_\\varepsilon }}$ đầu tiên thỏa mãn\n",
    "$$\\left| {{u_{{n_\\varepsilon }}} - {u_{{n_\\varepsilon } - 1}}} \\right| < {10^{ - 3}}$$"
   ]
  },
  {
   "cell_type": "code",
   "execution_count": 3,
   "metadata": {},
   "outputs": [
    {
     "name": "stdout",
     "output_type": "stream",
     "text": [
      "0.60009765625\n"
     ]
    }
   ],
   "source": [
    "i = 1\n",
    "while 1:\n",
    "    temp1 = (3/5) + (2/5)*(-1/4)**i\n",
    "    temp2 = (3/5) + (2/5)*(-1/4)**(i-1);\n",
    "    if (abs(temp1 - temp2) < 10**(-3)):\n",
    "        n = i\n",
    "        break\n",
    "    i += 1\n",
    "ans = temp1\n",
    "print(ans)"
   ]
  },
  {
   "cell_type": "markdown",
   "metadata": {},
   "source": [
    "### BÀI 4: Giả sử ta đầu tư vào một quỹ tín dụng một số tiền ban đầu là M, số tiền sinh lời hàng năm là `10%` số tiền vốn tích lũy. Hãy tính số năm khi mà lợi nhuận thu được gấp đôi tiền vốn ban đầu."
   ]
  },
  {
   "cell_type": "code",
   "execution_count": 2,
   "metadata": {},
   "outputs": [
    {
     "name": "stdout",
     "output_type": "stream",
     "text": [
      "12\n"
     ]
    }
   ],
   "source": [
    "M = int(input('Nhap vao M = '))\n",
    "count = 0\n",
    "sum = M\n",
    "while sum < (3*M):\n",
    "    sum += sum*10/100\n",
    "    count += 1\n",
    "print(count)"
   ]
  }
 ],
 "metadata": {
  "kernelspec": {
   "display_name": "Python 3.10.5 64-bit",
   "language": "python",
   "name": "python3"
  },
  "language_info": {
   "codemirror_mode": {
    "name": "ipython",
    "version": 3
   },
   "file_extension": ".py",
   "mimetype": "text/x-python",
   "name": "python",
   "nbconvert_exporter": "python",
   "pygments_lexer": "ipython3",
   "version": "3.10.5 (tags/v3.10.5:f377153, Jun  6 2022, 16:14:13) [MSC v.1929 64 bit (AMD64)]"
  },
  "orig_nbformat": 4,
  "vscode": {
   "interpreter": {
    "hash": "6d5b3700750bb233553397e1738ff408efdf1f93150754eb3685d72f9fc5da7b"
   }
  }
 },
 "nbformat": 4,
 "nbformat_minor": 2
}
