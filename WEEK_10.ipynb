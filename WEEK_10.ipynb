{
 "cells": [
  {
   "attachments": {},
   "cell_type": "markdown",
   "metadata": {},
   "source": [
    "# <CENTER><STRONG> EXERCISE WEEK 10 </STRONG></CENTER>"
   ]
  },
  {
   "attachments": {},
   "cell_type": "markdown",
   "metadata": {},
   "source": [
    "### <strong>`BÀI TẬP 1:`</strong> Tìm $f'\\left( x \\right),f''\\left( x \\right),f'''\\left( x \\right)$ của các hàm sau:  \n",
    "**a)** $f\\left( x \\right) = {x^3} - {x^2} - 6x + 2$\n",
    "\n",
    "**b)** $f\\left( x \\right) = \\sqrt[3]{x}  - {1 \\over 3}x$\n",
    "\n",
    "**c)** $f\\left( x \\right) = \\cos 2x$\n",
    "\n",
    "**d)** $f\\left( x \\right) = {x \\over {{x^3} - 1}}$\n",
    "\n",
    "**e)** $f\\left( x \\right) = \\sqrt x  - \\sqrt[4]{x} $"
   ]
  },
  {
   "attachments": {},
   "cell_type": "markdown",
   "metadata": {},
   "source": [
    "### <strong>`BÀI TẬP 2:`</strong> Tính các tích phân sau:  \n",
    "**a)** $\\int {\\sqrt {1 - {x^2}} } dx$\n",
    "\n",
    "**b)** $\\int {\\sin \\left( {\\sqrt x } \\right)} dx$\n",
    "\n",
    "**c)** $\\int_0^{\\pi /2} {{{\\cos }^4}\\left( x \\right)dx} $\n",
    "\n",
    "**d)** $\\int_0^{10} {\\left| {x - 5} \\right|dx} $\n",
    "\n",
    "**e)** $\\int_{\\pi /4}^{\\pi /3} {\\tan xdx} $"
   ]
  },
  {
   "attachments": {},
   "cell_type": "markdown",
   "metadata": {},
   "source": [
    "### <strong>`BÀI TẬP 3:`</strong> Tìm đạo hàm riêng\n",
    "$${{\\partial f} \\over {\\partial x}},\\quad {{{\\partial ^2}f} \\over {\\partial {x^2}}},\\quad {{\\partial f} \\over {\\partial y}},\\quad {{{\\partial ^2}f} \\over {\\partial {y^2}}},\\quad {{{\\partial ^2}f} \\over {\\partial x\\partial y}}$$\n",
    "### của các hàm sau:  \n",
    "**a)** $f\\left( {x,y} \\right) = {x^2} + xy + {y^2} + y$\n",
    "\n",
    "**b)** $f\\left( {x,y} \\right) = x{e^{ - 2{x^2} - 2{y^2}}}$\n",
    "\n",
    "**c)** $f\\left( {x,y} \\right) = {e^x}\\cos \\left( y \\right)$"
   ]
  },
  {
   "attachments": {},
   "cell_type": "markdown",
   "metadata": {},
   "source": [
    "### <strong>`BÀI TẬP 4:`</strong> Tính các tích phân sau:  \n",
    "**a)** $\\int_0^1 {\\int_0^{{y^2}} {\\cos \\left( {{y^3}} \\right)} } dxdy$\n",
    "\n",
    "**b)** $\\int_{ - 1}^1 {\\int_{ - 1}^y {{1 \\over {4 - {x^2}}}} } dxdy$\n",
    "\n",
    "**c)** $\\int\\!\\!\\!\\int {{1 \\over {\\sqrt {{a^2} - {x^2}} }}} dxdy$\n",
    "\n",
    "**d)** $\\int_0^1 {\\int_x^1 {\\cos \\left( {{y^2}} \\right)} } dydx$\n",
    "\n",
    "**e)** $\\int_0^1 {\\int_{\\sqrt y }^1 {{{y{e^{{x^2}}}} \\over {{x^3}}}} } dxdy$"
   ]
  },
  {
   "attachments": {},
   "cell_type": "markdown",
   "metadata": {},
   "source": [
    "### <strong>`BÀI TẬP 5:`</strong> Ta có thể tính diện tích của một miền D cho trước bằng tích phân bôi sau:  \n",
    "$$A\\left( D \\right) = \\int\\!\\!\\!\\int_D {1dA} $$\n",
    "\n",
    "**a)** Cho D là miền giới hạn bởi $y = 2{x^2},\\quad y = 1 + {x^2}$\n",
    "\n",
    "**b)** Cho D là miền giới hạn bởi $y = 2x,\\quad y = {x^2}$\n",
    "\n",
    "**c)** Cho D là miền giới hạn bởi $y = x - 1,\\quad {y^2} = 2x + 6$\n",
    "\n",
    "**d)** Cho D là miền giới hạn bởi $y = x,\\quad y = {x^3}$\n",
    "\n",
    "**e)** Cho D là miền giới hạn bởi $y = x - 2,\\quad {y^2} = x$\n",
    "\n",
    "### Vẽ các miền D ở trên và tính diện tích của miền."
   ]
  },
  {
   "attachments": {},
   "cell_type": "markdown",
   "metadata": {},
   "source": [
    "### <strong>`BÀI TẬP 6:`</strong> Cho vector $u = \\left[ {{u_1}\\left( {x,y,z} \\right),{u_2}\\left( {x,y,z} \\right),{u_3}\\left( {x,y,z} \\right)} \\right]$ với ma trận Jacobi có công thức sau:\n",
    "$$J=\\left({\\begin{matrix}\n",
    "   {{{\\partial {u_1}} \\over {\\partial x}}} & {{{\\partial {u_1}} \\over {\\partial y}}} & {{{\\partial {u_1}} \\over {\\partial z}}}  \\\\ \n",
    "\n",
    "   {{{\\partial {u_2}} \\over {\\partial x}}} & {{{\\partial {u_2}} \\over {\\partial y}}} & {{{\\partial {u_2}} \\over {\\partial z}}}  \\\\ \n",
    "   \n",
    "   {{{\\partial {u_3}} \\over {\\partial x}}} & {{{\\partial {u_3}} \\over {\\partial y}}} & {{{\\partial {u_3}} \\over {\\partial z}}}  \\\\ \n",
    "\\end{matrix}}\\right)\n",
    "$$\n",
    "### Tìm ma trận Jacobi của các vecto u sau:  \n",
    "**a)** $u = \\left[ {\\sin (x) + \\cos (y),{x^2} + 3x - 4,\\ln x + {y^2} + \\sqrt z } \\right]$\n",
    "\n",
    "**b)** $u = \\left[ {5{x^3} - {x^2}{y^2} + \\tan \\left( x \\right),{e^{{x^2} + {y^2} + {z^2}}},{x^3}y{x^2} - {x^2}y - {x^3}z} \\right]$\n",
    "\n",
    "**c)** $u = \\left[ {\\cos \\left( x \\right) + \\sin \\left( x \\right) + \\tan \\left( x \\right),\\ln \\left( {x - y + z} \\right),{x^3} - {y^3} + {z^3}} \\right]$\n",
    "\n",
    "**d)** $u = \\left[ {2{x^2} + 3{y^2} + 2xyz,\\cos \\left( {xy} \\right)\\sin \\left( {xz} \\right)\\tan \\left( {yz} \\right),{e^{x + y}}\\ln \\left( {xyz} \\right)} \\right]$\n",
    "\n",
    "**e)** $u = \\left[ {\\sqrt {x + \\ln \\left( {yz} \\right)} ,{x \\over {{z^2} + {y^3}}},{{yz} \\over {\\sqrt {{x^2} - 1} }}} \\right]$"
   ]
  },
  {
   "attachments": {},
   "cell_type": "markdown",
   "metadata": {},
   "source": [
    "### <strong>`BÀI TẬP 7:`</strong> Cho toán tử Laplace có công thức sau:\n",
    "$$\\Delta f = {{{\\partial ^2}f} \\over {\\partial x_1^2}} + {{{\\partial ^2}f} \\over {\\partial x_2^2}} +  \\ldots  + {{{\\partial ^2}f} \\over {\\partial x_n^2}}$$\n",
    "### Tìm $\\Delta f$ của các hàm sau:  \n",
    "**a)** $f\\left( {x,y} \\right) = {{\\sin \\left( {{x^2} + {y^2}} \\right)} \\over {{x^2} + {y^2}}}$\n",
    "\n",
    "**b)** $f\\left( {x,y,z} \\right) = {e^{ - {y^2} - {z^2}}}\\cos \\left( {\\sqrt {1 + x - 7} } \\right)$\n",
    "\n",
    "**c)** $f\\left( {x,y,z,t} \\right) = \\ln \\left( {{{2xy} \\over {{x^2} + 2{y^2} + 3{z^2}}}} \\right) + {{xyz{e^{xyzt}}} \\over {\\sqrt {{x^2} - {y^2} + {z^2} - {t^2}} }}$"
   ]
  },
  {
   "attachments": {},
   "cell_type": "markdown",
   "metadata": {},
   "source": [
    "### <strong>`BÀI TẬP 8:`</strong> Tích các tích phân sau:  \n",
    "**a)** $\\int_{ - \\infty }^\\infty  {{e^{ - {x^2}}}dx} $\n",
    "\n",
    "**b)** $\\int_{ - \\infty }^\\infty  {\\int_{ - \\infty }^\\infty  {{e^{ - {x^2} - {y^2}}}} dxdy} $"
   ]
  },
  {
   "attachments": {},
   "cell_type": "markdown",
   "metadata": {},
   "source": [
    "### <strong>`BÀI TẬP 9:`</strong> Tính các tích phân sau:\n",
    "**a)** $$\\int\\!\\!\\!\\int\\!\\!\\!\\int_E \n",
    " {ydV} ,\\quad E = \\left\\{ {\\left( {x,y,z} \\right)|0 \\le x \\le 3,\\;0 \\le y \\le x;\\;x - y \\le z \\le x + y} \\right\\}$$\n",
    "\n",
    "**b)** $$\\int  \\int  \\int_E {{e^{x/y}}dV} ,\\quad E = \\left\\{ {\\left( {x,y,z} \\right)|0 \\le y \\le 1,\\;y \\le x \\le 1;\\;0 \\le z \\le xy} \\right\\}$$\n",
    "\n",
    "**c)** $$\\int  \\int  \\int_E {{z \\over {{z^2} + {x^2}}}dV} ,\\quad E = \\left\\{ {\\left( {x,y,z} \\right)|1 \\le y \\le 4,\\;y \\le z \\le 4;\\;0 \\le x \\le z} \\right\\}$$"
   ]
  },
  {
   "attachments": {},
   "cell_type": "markdown",
   "metadata": {},
   "source": [
    "### <strong>`BÀI TẬP 10:`</strong> Cho đa thức Taylor của hàm $f\\left( x \\right)$ trong lân cận x0 có công thức sau:\n",
    "$${P_n}\\left( x \\right) = f\\left( {{x_0}} \\right) + \\sum\\limits_{k = 1}^n {{{{f^k}\\left( {{x_0}} \\right)} \\over {k!}}{{\\left( {x - {x_0}} \\right)}^k}} $$\n",
    "### Viết function như sau:\n",
    "$$function\\left[ P \\right] = DaThuc\\_Taylor(f,n,x0)$$\n",
    "### Với P là đa thức Talor cần tìm, f là hàm cần tìm đa thức Taylor, n là bậc của đa thức Taylor và x0 là lân cận ${x_0}$.\n",
    "### So sánh với hàm ... của .., với các hàm $f\\left( x \\right) = {e^x},\\quad \\cos x,\\quad \\sin x,\\quad \\ln \\left( x \\right)$. Cho ${x_0} = 0,\\quad n = 6$ "
   ]
  },
  {
   "attachments": {},
   "cell_type": "markdown",
   "metadata": {},
   "source": [
    "### <strong>`BÀI TẬP 11:`</strong> Viết đoạn chương trình tính gần đúng tích phân bội 2 bằng công thức trung điểm\n",
    "$$\\int\\!\\!\\!\\int_R {f\\left( {x,y} \\right)} dA \\simeq \\sum\\limits_{i = 1}^m {\\sum\\limits_{j = 1}^n {f\\left( {{{\\bar x}_i},{{\\bar y}_j}} \\right)} } \\Delta A$$\n",
    "Với $R = \\left\\{ {\\left( {x,y} \\right)|a \\le x \\le b,\\;c \\le y \\le d} \\right\\}$\n",
    "$$\\Delta x = {{b - a} \\over m},\\;\\Delta y = {{d - c} \\over n},\\;{x_i} = a + \\left( {i - 1} \\right)\\Delta x,\\;{y_i} = c + j\\left( {i - 1} \\right)\\Delta y$$\n",
    "$${{\\bar x}_i} = {1 \\over 2}\\left( {{x_i} + {x_{i + 1}}} \\right),\\;{{\\bar y}_j} = {1 \\over 2}\\left( {{x_j} + {x_{j + 1}}} \\right),\\;\\Delta A = \\Delta x\\Delta y$$\n",
    "Áp dụng chương trình trên tính tích phân sau và so sánh kết quả với hàm ... của ....\n",
    "$$\\int\\!\\!\\!\\int_R {\\left( {x - 3{y^2}} \\right)} dA,\\quad R = \\left\\{ {\\left( {x,y} \\right)|0 \\le x \\le 2,\\;1 \\le y \\le 2} \\right\\}$$"
   ]
  }
 ],
 "metadata": {
  "kernelspec": {
   "display_name": "Python 3",
   "language": "python",
   "name": "python3"
  },
  "language_info": {
   "name": "python",
   "version": "3.10.5 (tags/v3.10.5:f377153, Jun  6 2022, 16:14:13) [MSC v.1929 64 bit (AMD64)]"
  },
  "orig_nbformat": 4,
  "vscode": {
   "interpreter": {
    "hash": "6d5b3700750bb233553397e1738ff408efdf1f93150754eb3685d72f9fc5da7b"
   }
  }
 },
 "nbformat": 4,
 "nbformat_minor": 2
}
